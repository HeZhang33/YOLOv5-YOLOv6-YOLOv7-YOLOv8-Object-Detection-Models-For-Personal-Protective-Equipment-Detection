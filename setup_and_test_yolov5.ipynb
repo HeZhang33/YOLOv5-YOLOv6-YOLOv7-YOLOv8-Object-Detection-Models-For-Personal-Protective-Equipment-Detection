{
 "cells": [
  {
   "cell_type": "code",
   "execution_count": 1,
   "id": "5a251a07",
   "metadata": {},
   "outputs": [],
   "source": [
    "# Before running, run following commands to get repo. and libs., then MUST restart kernel:\n",
    "# Note: this notebook was run using \"Python 3 (ipykernel)\" on Azure ML.\n",
    "\n",
    "# He Zhang, July, 2022"
   ]
  },
  {
   "cell_type": "code",
   "execution_count": 1,
   "id": "a7861142",
   "metadata": {},
   "outputs": [
    {
     "name": "stdout",
     "output_type": "stream",
     "text": [
      "Torch: 1.8.1+cu102\n",
      "Torchvision: 0.9.1+cu102\n",
      "GPU: 2 Tesla M60\n"
     ]
    }
   ],
   "source": [
    "import cv2\n",
    "import matplotlib.pyplot as plt\n",
    "\n",
    "import torch\n",
    "import torchvision\n",
    "print(\"Torch:\", torch.__version__)\n",
    "print(\"Torchvision:\", torchvision.__version__)\n",
    "print(\"GPU:\", torch.cuda.device_count(), torch.cuda.get_device_name(0)) if torch.cuda.is_available() else print(\"NO GPU\")"
   ]
  },
  {
   "cell_type": "code",
   "execution_count": 2,
   "id": "21387838",
   "metadata": {},
   "outputs": [
    {
     "name": "stdout",
     "output_type": "stream",
     "text": [
      "Cloning into 'yolov5'...\n",
      "remote: Enumerating objects: 12580, done.\u001b[K\n",
      "remote: Counting objects: 100% (5/5), done.\u001b[K\n",
      "remote: Compressing objects: 100% (4/4), done.\u001b[K\n",
      "remote: Total 12580 (delta 1), reused 4 (delta 1), pack-reused 12575\u001b[K\n",
      "Receiving objects: 100% (12580/12580), 12.30 MiB | 7.08 MiB/s, done.\n",
      "Resolving deltas: 100% (8655/8655), done.\n",
      "Updating files: 100% (111/111), done.\n"
     ]
    }
   ],
   "source": [
    "# get the YOLOv5 repo.\n",
    "!git clone https://github.com/ultralytics/yolov5"
   ]
  },
  {
   "cell_type": "code",
   "execution_count": 3,
   "id": "c53e1c6c",
   "metadata": {},
   "outputs": [
    {
     "name": "stdout",
     "output_type": "stream",
     "text": [
      "/mnt/batch/tasks/shared/LS_root/mounts/clusters/multi-gpu-2-tesla-m60/code/Users/zhanghe/cv-safety-detection/yolov5\n"
     ]
    }
   ],
   "source": [
    "# go to folder YOLOv5\n",
    "%cd yolov5/"
   ]
  },
  {
   "cell_type": "code",
   "execution_count": 4,
   "id": "d3e6ad70",
   "metadata": {},
   "outputs": [
    {
     "name": "stdout",
     "output_type": "stream",
     "text": [
      "Requirement already satisfied: pip in /anaconda/envs/azureml_py38/lib/python3.8/site-packages (22.1.2)\r\n"
     ]
    }
   ],
   "source": [
    "# update pip\n",
    "!pip install --upgrade pip"
   ]
  },
  {
   "cell_type": "code",
   "execution_count": 5,
   "id": "f55282b8",
   "metadata": {
    "scrolled": true
   },
   "outputs": [
    {
     "name": "stdout",
     "output_type": "stream",
     "text": [
      "Requirement already satisfied: matplotlib>=3.2.2 in /anaconda/envs/azureml_py38/lib/python3.8/site-packages (from -r requirements.txt (line 5)) (3.5.2)\n",
      "Requirement already satisfied: numpy>=1.18.5 in /anaconda/envs/azureml_py38/lib/python3.8/site-packages (from -r requirements.txt (line 6)) (1.19.0)\n",
      "Requirement already satisfied: opencv-python>=4.1.1 in /anaconda/envs/azureml_py38/lib/python3.8/site-packages (from -r requirements.txt (line 7)) (4.6.0.66)\n",
      "Requirement already satisfied: Pillow>=7.1.2 in /anaconda/envs/azureml_py38/lib/python3.8/site-packages (from -r requirements.txt (line 8)) (9.1.1)\n",
      "Requirement already satisfied: PyYAML>=5.3.1 in /anaconda/envs/azureml_py38/lib/python3.8/site-packages (from -r requirements.txt (line 9)) (6.0)\n",
      "Requirement already satisfied: requests>=2.23.0 in /anaconda/envs/azureml_py38/lib/python3.8/site-packages (from -r requirements.txt (line 10)) (2.27.1)\n",
      "Requirement already satisfied: scipy>=1.4.1 in /anaconda/envs/azureml_py38/lib/python3.8/site-packages (from -r requirements.txt (line 11)) (1.5.2)\n",
      "Requirement already satisfied: torch!=1.12.0,>=1.7.0 in /anaconda/envs/azureml_py38/lib/python3.8/site-packages (from -r requirements.txt (line 12)) (1.8.1)\n",
      "Requirement already satisfied: torchvision!=0.13.0,>=0.8.1 in /anaconda/envs/azureml_py38/lib/python3.8/site-packages (from -r requirements.txt (line 13)) (0.9.1)\n",
      "Requirement already satisfied: tqdm>=4.41.0 in /anaconda/envs/azureml_py38/lib/python3.8/site-packages (from -r requirements.txt (line 14)) (4.64.0)\n",
      "Requirement already satisfied: protobuf<4.21.3 in /anaconda/envs/azureml_py38/lib/python3.8/site-packages (from -r requirements.txt (line 15)) (3.19.4)\n",
      "Requirement already satisfied: tensorboard>=2.4.1 in /anaconda/envs/azureml_py38/lib/python3.8/site-packages (from -r requirements.txt (line 18)) (2.9.1)\n",
      "Requirement already satisfied: pandas>=1.1.4 in /anaconda/envs/azureml_py38/lib/python3.8/site-packages (from -r requirements.txt (line 22)) (1.1.5)\n",
      "Requirement already satisfied: seaborn>=0.11.0 in /anaconda/envs/azureml_py38/lib/python3.8/site-packages (from -r requirements.txt (line 23)) (0.11.2)\n",
      "Requirement already satisfied: ipython in /anaconda/envs/azureml_py38/lib/python3.8/site-packages (from -r requirements.txt (line 37)) (8.3.0)\n",
      "Requirement already satisfied: psutil in /anaconda/envs/azureml_py38/lib/python3.8/site-packages (from -r requirements.txt (line 38)) (5.9.0)\n",
      "Requirement already satisfied: thop>=0.1.0 in /anaconda/envs/azureml_py38/lib/python3.8/site-packages (from -r requirements.txt (line 39)) (0.1.0.post2206102148)\n",
      "Requirement already satisfied: packaging>=20.0 in /anaconda/envs/azureml_py38/lib/python3.8/site-packages (from matplotlib>=3.2.2->-r requirements.txt (line 5)) (21.3)\n",
      "Requirement already satisfied: pyparsing>=2.2.1 in /anaconda/envs/azureml_py38/lib/python3.8/site-packages (from matplotlib>=3.2.2->-r requirements.txt (line 5)) (3.0.9)\n",
      "Requirement already satisfied: python-dateutil>=2.7 in /anaconda/envs/azureml_py38/lib/python3.8/site-packages (from matplotlib>=3.2.2->-r requirements.txt (line 5)) (2.8.2)\n",
      "Requirement already satisfied: fonttools>=4.22.0 in /anaconda/envs/azureml_py38/lib/python3.8/site-packages (from matplotlib>=3.2.2->-r requirements.txt (line 5)) (4.25.0)\n",
      "Requirement already satisfied: cycler>=0.10 in /anaconda/envs/azureml_py38/lib/python3.8/site-packages (from matplotlib>=3.2.2->-r requirements.txt (line 5)) (0.11.0)\n",
      "Requirement already satisfied: kiwisolver>=1.0.1 in /anaconda/envs/azureml_py38/lib/python3.8/site-packages (from matplotlib>=3.2.2->-r requirements.txt (line 5)) (1.4.2)\n",
      "Requirement already satisfied: certifi>=2017.4.17 in /anaconda/envs/azureml_py38/lib/python3.8/site-packages (from requests>=2.23.0->-r requirements.txt (line 10)) (2022.5.18.1)\n",
      "Requirement already satisfied: idna<4,>=2.5 in /anaconda/envs/azureml_py38/lib/python3.8/site-packages (from requests>=2.23.0->-r requirements.txt (line 10)) (3.3)\n",
      "Requirement already satisfied: urllib3<1.27,>=1.21.1 in /anaconda/envs/azureml_py38/lib/python3.8/site-packages (from requests>=2.23.0->-r requirements.txt (line 10)) (1.26.9)\n",
      "Requirement already satisfied: charset-normalizer~=2.0.0 in /anaconda/envs/azureml_py38/lib/python3.8/site-packages (from requests>=2.23.0->-r requirements.txt (line 10)) (2.0.12)\n",
      "Requirement already satisfied: typing-extensions in /anaconda/envs/azureml_py38/lib/python3.8/site-packages (from torch!=1.12.0,>=1.7.0->-r requirements.txt (line 12)) (4.2.0)\n",
      "Requirement already satisfied: grpcio>=1.24.3 in /anaconda/envs/azureml_py38/lib/python3.8/site-packages (from tensorboard>=2.4.1->-r requirements.txt (line 18)) (1.46.3)\n",
      "Requirement already satisfied: tensorboard-plugin-wit>=1.6.0 in /anaconda/envs/azureml_py38/lib/python3.8/site-packages (from tensorboard>=2.4.1->-r requirements.txt (line 18)) (1.8.1)\n",
      "Requirement already satisfied: google-auth<3,>=1.6.3 in /anaconda/envs/azureml_py38/lib/python3.8/site-packages (from tensorboard>=2.4.1->-r requirements.txt (line 18)) (2.6.6)\n",
      "Requirement already satisfied: setuptools>=41.0.0 in /anaconda/envs/azureml_py38/lib/python3.8/site-packages (from tensorboard>=2.4.1->-r requirements.txt (line 18)) (49.6.0)\n",
      "Requirement already satisfied: werkzeug>=1.0.1 in /anaconda/envs/azureml_py38/lib/python3.8/site-packages (from tensorboard>=2.4.1->-r requirements.txt (line 18)) (1.0.1)\n",
      "Requirement already satisfied: wheel>=0.26 in /anaconda/envs/azureml_py38/lib/python3.8/site-packages (from tensorboard>=2.4.1->-r requirements.txt (line 18)) (0.37.1)\n",
      "Requirement already satisfied: absl-py>=0.4 in /anaconda/envs/azureml_py38/lib/python3.8/site-packages (from tensorboard>=2.4.1->-r requirements.txt (line 18)) (0.15.0)\n",
      "Requirement already satisfied: markdown>=2.6.8 in /anaconda/envs/azureml_py38/lib/python3.8/site-packages (from tensorboard>=2.4.1->-r requirements.txt (line 18)) (3.3.7)\n",
      "Requirement already satisfied: tensorboard-data-server<0.7.0,>=0.6.0 in /anaconda/envs/azureml_py38/lib/python3.8/site-packages (from tensorboard>=2.4.1->-r requirements.txt (line 18)) (0.6.1)\n",
      "Requirement already satisfied: google-auth-oauthlib<0.5,>=0.4.1 in /anaconda/envs/azureml_py38/lib/python3.8/site-packages (from tensorboard>=2.4.1->-r requirements.txt (line 18)) (0.4.6)\n",
      "Requirement already satisfied: pytz>=2017.2 in /anaconda/envs/azureml_py38/lib/python3.8/site-packages (from pandas>=1.1.4->-r requirements.txt (line 22)) (2019.3)\n",
      "Requirement already satisfied: backcall in /anaconda/envs/azureml_py38/lib/python3.8/site-packages (from ipython->-r requirements.txt (line 37)) (0.2.0)\n",
      "Requirement already satisfied: decorator in /anaconda/envs/azureml_py38/lib/python3.8/site-packages (from ipython->-r requirements.txt (line 37)) (5.1.1)\n",
      "Requirement already satisfied: stack-data in /anaconda/envs/azureml_py38/lib/python3.8/site-packages (from ipython->-r requirements.txt (line 37)) (0.2.0)\n",
      "Requirement already satisfied: pickleshare in /anaconda/envs/azureml_py38/lib/python3.8/site-packages (from ipython->-r requirements.txt (line 37)) (0.7.5)\n",
      "Requirement already satisfied: matplotlib-inline in /anaconda/envs/azureml_py38/lib/python3.8/site-packages (from ipython->-r requirements.txt (line 37)) (0.1.3)\n",
      "Requirement already satisfied: jedi>=0.16 in /anaconda/envs/azureml_py38/lib/python3.8/site-packages (from ipython->-r requirements.txt (line 37)) (0.18.0)\n",
      "Requirement already satisfied: traitlets>=5 in /anaconda/envs/azureml_py38/lib/python3.8/site-packages (from ipython->-r requirements.txt (line 37)) (5.2.1.post0)\n",
      "Requirement already satisfied: pygments>=2.4.0 in /anaconda/envs/azureml_py38/lib/python3.8/site-packages (from ipython->-r requirements.txt (line 37)) (2.12.0)\n",
      "Requirement already satisfied: pexpect>4.3 in /anaconda/envs/azureml_py38/lib/python3.8/site-packages (from ipython->-r requirements.txt (line 37)) (4.8.0)\n",
      "Requirement already satisfied: prompt-toolkit!=3.0.0,!=3.0.1,<3.1.0,>=2.0.0 in /anaconda/envs/azureml_py38/lib/python3.8/site-packages (from ipython->-r requirements.txt (line 37)) (3.0.28)\n",
      "Requirement already satisfied: six in /anaconda/envs/azureml_py38/lib/python3.8/site-packages (from absl-py>=0.4->tensorboard>=2.4.1->-r requirements.txt (line 18)) (1.16.0)\n",
      "Requirement already satisfied: cachetools<6.0,>=2.0.0 in /anaconda/envs/azureml_py38/lib/python3.8/site-packages (from google-auth<3,>=1.6.3->tensorboard>=2.4.1->-r requirements.txt (line 18)) (5.1.0)\n",
      "Requirement already satisfied: rsa<5,>=3.1.4 in /anaconda/envs/azureml_py38/lib/python3.8/site-packages (from google-auth<3,>=1.6.3->tensorboard>=2.4.1->-r requirements.txt (line 18)) (4.8)\n",
      "Requirement already satisfied: pyasn1-modules>=0.2.1 in /anaconda/envs/azureml_py38/lib/python3.8/site-packages (from google-auth<3,>=1.6.3->tensorboard>=2.4.1->-r requirements.txt (line 18)) (0.2.8)\n",
      "Requirement already satisfied: requests-oauthlib>=0.7.0 in /anaconda/envs/azureml_py38/lib/python3.8/site-packages (from google-auth-oauthlib<0.5,>=0.4.1->tensorboard>=2.4.1->-r requirements.txt (line 18)) (1.3.1)\n",
      "Requirement already satisfied: parso<0.9.0,>=0.8.0 in /anaconda/envs/azureml_py38/lib/python3.8/site-packages (from jedi>=0.16->ipython->-r requirements.txt (line 37)) (0.8.3)\n",
      "Requirement already satisfied: importlib-metadata>=4.4 in /anaconda/envs/azureml_py38/lib/python3.8/site-packages (from markdown>=2.6.8->tensorboard>=2.4.1->-r requirements.txt (line 18)) (4.11.3)\n"
     ]
    },
    {
     "name": "stdout",
     "output_type": "stream",
     "text": [
      "Requirement already satisfied: ptyprocess>=0.5 in /anaconda/envs/azureml_py38/lib/python3.8/site-packages (from pexpect>4.3->ipython->-r requirements.txt (line 37)) (0.7.0)\n",
      "Requirement already satisfied: wcwidth in /anaconda/envs/azureml_py38/lib/python3.8/site-packages (from prompt-toolkit!=3.0.0,!=3.0.1,<3.1.0,>=2.0.0->ipython->-r requirements.txt (line 37)) (0.2.5)\n",
      "Requirement already satisfied: asttokens in /anaconda/envs/azureml_py38/lib/python3.8/site-packages (from stack-data->ipython->-r requirements.txt (line 37)) (2.0.5)\n",
      "Requirement already satisfied: executing in /anaconda/envs/azureml_py38/lib/python3.8/site-packages (from stack-data->ipython->-r requirements.txt (line 37)) (0.8.3)\n",
      "Requirement already satisfied: pure-eval in /anaconda/envs/azureml_py38/lib/python3.8/site-packages (from stack-data->ipython->-r requirements.txt (line 37)) (0.2.2)\n",
      "Requirement already satisfied: zipp>=0.5 in /anaconda/envs/azureml_py38/lib/python3.8/site-packages (from importlib-metadata>=4.4->markdown>=2.6.8->tensorboard>=2.4.1->-r requirements.txt (line 18)) (3.8.0)\n",
      "Requirement already satisfied: pyasn1<0.5.0,>=0.4.6 in /anaconda/envs/azureml_py38/lib/python3.8/site-packages (from pyasn1-modules>=0.2.1->google-auth<3,>=1.6.3->tensorboard>=2.4.1->-r requirements.txt (line 18)) (0.4.8)\n",
      "Requirement already satisfied: oauthlib>=3.0.0 in /anaconda/envs/azureml_py38/lib/python3.8/site-packages (from requests-oauthlib>=0.7.0->google-auth-oauthlib<0.5,>=0.4.1->tensorboard>=2.4.1->-r requirements.txt (line 18)) (3.2.0)\n"
     ]
    }
   ],
   "source": [
    "# install the required libraries && restart the kernel!!!\n",
    "!pip install -r requirements.txt"
   ]
  },
  {
   "cell_type": "code",
   "execution_count": 6,
   "id": "0ff0b0d8",
   "metadata": {},
   "outputs": [
    {
     "name": "stderr",
     "output_type": "stream",
     "text": [
      "Using cache found in /home/azureuser/.cache/torch/hub/ultralytics_yolov5_master\n",
      "YOLOv5 🚀 2022-6-29 Python-3.8.5 torch-1.8.1+cu102 CUDA:0 (Tesla M60, 8129MiB)\n",
      "\n",
      "Downloading https://github.com/ultralytics/yolov5/releases/download/v6.1/yolov5s.pt to yolov5s.pt...\n"
     ]
    },
    {
     "data": {
      "application/vnd.jupyter.widget-view+json": {
       "model_id": "93c467d8d8034bcba50755a8c093f00c",
       "version_major": 2,
       "version_minor": 0
      },
      "text/plain": [
       "  0%|          | 0.00/14.1M [00:00<?, ?B/s]"
      ]
     },
     "metadata": {},
     "output_type": "display_data"
    },
    {
     "name": "stderr",
     "output_type": "stream",
     "text": [
      "\n",
      "Fusing layers... \n",
      "YOLOv5s summary: 213 layers, 7225885 parameters, 0 gradients, 16.4 GFLOPs\n",
      "Adding AutoShape... \n",
      "Saved 1 image to \u001b[1mruns/detect/exp_test\u001b[0m\n"
     ]
    },
    {
     "name": "stdout",
     "output_type": "stream",
     "text": [
      "image 1/1: 720x1280 2 persons, 2 ties\n",
      "Speed: 294.5ms pre-process, 17.0ms inference, 319.0ms NMS per image at shape (1, 3, 384, 640)\n"
     ]
    }
   ],
   "source": [
    "# test a pre-trained YOLOv5 model\n",
    "model = torch.hub.load(\"ultralytics/yolov5\", \"yolov5s\") #  or yolov5n for smallest model with 1.8million paras.\n",
    "\n",
    "img = \"../datasets/test_images/samples/zidane.jpg\"\n",
    "results = model(img)\n",
    "results.print() # or use .save() to save the detection results as an image with bounding box(es)\n",
    "results.save(save_dir=\"runs/detect/exp_test\")"
   ]
  },
  {
   "cell_type": "code",
   "execution_count": null,
   "id": "c3efb3ae",
   "metadata": {},
   "outputs": [],
   "source": []
  },
  {
   "cell_type": "code",
   "execution_count": null,
   "id": "93bbd20b",
   "metadata": {},
   "outputs": [],
   "source": []
  }
 ],
 "metadata": {
  "kernelspec": {
   "display_name": "Python 3 (ipykernel)",
   "language": "python",
   "name": "python3"
  },
  "language_info": {
   "codemirror_mode": {
    "name": "ipython",
    "version": 3
   },
   "file_extension": ".py",
   "mimetype": "text/x-python",
   "name": "python",
   "nbconvert_exporter": "python",
   "pygments_lexer": "ipython3",
   "version": "3.8.13"
  }
 },
 "nbformat": 4,
 "nbformat_minor": 5
}
