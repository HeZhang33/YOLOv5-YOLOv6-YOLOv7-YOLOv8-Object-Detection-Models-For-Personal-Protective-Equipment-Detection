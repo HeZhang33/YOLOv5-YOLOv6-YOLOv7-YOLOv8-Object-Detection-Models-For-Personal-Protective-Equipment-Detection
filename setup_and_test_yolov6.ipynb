{
 "cells": [
  {
   "cell_type": "code",
   "execution_count": 1,
   "id": "5a251a07",
   "metadata": {},
   "outputs": [],
   "source": [
    "# Before running, run following commands to get repo. and libs., then MUST restart kernel:\n",
    "# Note: this notebook was run using \"Python 3 (ipykernel)\" on Azure ML.\n",
    "\n",
    "# He Zhang, July, 2022"
   ]
  },
  {
   "cell_type": "code",
   "execution_count": 1,
   "id": "a7861142",
   "metadata": {},
   "outputs": [
    {
     "name": "stdout",
     "output_type": "stream",
     "text": [
      "Torch: 1.8.2+cu102\n",
      "Torchvision: 0.9.2+cu102\n",
      "GPU: 4 Tesla M60\n"
     ]
    }
   ],
   "source": [
    "import cv2\n",
    "import matplotlib.pyplot as plt\n",
    "\n",
    "import torch\n",
    "import torchvision\n",
    "print(\"Torch:\", torch.__version__)\n",
    "print(\"Torchvision:\", torchvision.__version__)\n",
    "print(\"GPU:\", torch.cuda.device_count(), torch.cuda.get_device_name(0)) if torch.cuda.is_available() else print(\"NO GPU\")"
   ]
  },
  {
   "cell_type": "code",
   "execution_count": 2,
   "id": "21387838",
   "metadata": {},
   "outputs": [
    {
     "name": "stdout",
     "output_type": "stream",
     "text": [
      "fatal: destination path 'YOLOv6' already exists and is not an empty directory.\r\n"
     ]
    }
   ],
   "source": [
    "# get the YOLOv6 repo.\n",
    "!git clone https://github.com/meituan/YOLOv6"
   ]
  },
  {
   "cell_type": "code",
   "execution_count": 3,
   "id": "f368eab8",
   "metadata": {},
   "outputs": [
    {
     "name": "stdout",
     "output_type": "stream",
     "text": [
      "/mnt/batch/tasks/shared/LS_root/mounts/clusters/multi-gpu-4-tesla-m60/code/Users/zhanghe/cv-safety-detection/YOLOv6\n"
     ]
    }
   ],
   "source": [
    "# go to folder YOLOv6\n",
    "%cd YOLOv6/"
   ]
  },
  {
   "cell_type": "code",
   "execution_count": 4,
   "id": "d3e6ad70",
   "metadata": {},
   "outputs": [
    {
     "name": "stdout",
     "output_type": "stream",
     "text": [
      "Requirement already satisfied: pip in /anaconda/envs/azureml_py38/lib/python3.8/site-packages (22.1.2)\r\n"
     ]
    }
   ],
   "source": [
    "# update pip\n",
    "!pip install --upgrade pip"
   ]
  },
  {
   "cell_type": "code",
   "execution_count": 5,
   "id": "f55282b8",
   "metadata": {
    "scrolled": true
   },
   "outputs": [
    {
     "name": "stdout",
     "output_type": "stream",
     "text": [
      "Requirement already satisfied: torch>=1.8.0 in /anaconda/envs/azureml_py38/lib/python3.8/site-packages (from -r requirements.txt (line 4)) (1.8.2+cu102)\n",
      "Requirement already satisfied: torchvision>=0.9.0 in /anaconda/envs/azureml_py38/lib/python3.8/site-packages (from -r requirements.txt (line 5)) (0.9.2+cu102)\n",
      "Requirement already satisfied: numpy>=1.18.5 in /anaconda/envs/azureml_py38/lib/python3.8/site-packages (from -r requirements.txt (line 6)) (1.23.0)\n",
      "Requirement already satisfied: opencv-python>=4.1.2 in /anaconda/envs/azureml_py38/lib/python3.8/site-packages (from -r requirements.txt (line 7)) (4.6.0.66)\n",
      "Requirement already satisfied: PyYAML>=5.3.1 in /anaconda/envs/azureml_py38/lib/python3.8/site-packages (from -r requirements.txt (line 8)) (6.0)\n",
      "Requirement already satisfied: scipy>=1.4.1 in /anaconda/envs/azureml_py38/lib/python3.8/site-packages (from -r requirements.txt (line 9)) (1.5.2)\n",
      "Requirement already satisfied: tqdm>=4.41.0 in /anaconda/envs/azureml_py38/lib/python3.8/site-packages (from -r requirements.txt (line 10)) (4.64.0)\n",
      "Requirement already satisfied: addict>=2.4.0 in /anaconda/envs/azureml_py38/lib/python3.8/site-packages (from -r requirements.txt (line 11)) (2.4.0)\n",
      "Requirement already satisfied: tensorboard>=2.7.0 in /anaconda/envs/azureml_py38/lib/python3.8/site-packages (from -r requirements.txt (line 12)) (2.9.1)\n",
      "Requirement already satisfied: pycocotools>=2.0 in /anaconda/envs/azureml_py38/lib/python3.8/site-packages (from -r requirements.txt (line 13)) (2.0.0)\n",
      "Requirement already satisfied: onnx>=1.10.0 in /anaconda/envs/azureml_py38/lib/python3.8/site-packages (from -r requirements.txt (line 14)) (1.12.0)\n",
      "Requirement already satisfied: onnx-simplifier>=0.3.6 in /anaconda/envs/azureml_py38/lib/python3.8/site-packages (from -r requirements.txt (line 15)) (0.4.0)\n",
      "Requirement already satisfied: thop in /anaconda/envs/azureml_py38/lib/python3.8/site-packages (from -r requirements.txt (line 16)) (0.1.1.post2207130030)\n",
      "Requirement already satisfied: typing-extensions in /anaconda/envs/azureml_py38/lib/python3.8/site-packages (from torch>=1.8.0->-r requirements.txt (line 4)) (4.2.0)\n",
      "Requirement already satisfied: pillow>=4.1.1 in /anaconda/envs/azureml_py38/lib/python3.8/site-packages (from torchvision>=0.9.0->-r requirements.txt (line 5)) (6.2.1)\n",
      "Requirement already satisfied: requests<3,>=2.21.0 in /anaconda/envs/azureml_py38/lib/python3.8/site-packages (from tensorboard>=2.7.0->-r requirements.txt (line 12)) (2.27.1)\n",
      "Requirement already satisfied: werkzeug>=1.0.1 in /anaconda/envs/azureml_py38/lib/python3.8/site-packages (from tensorboard>=2.7.0->-r requirements.txt (line 12)) (1.0.1)\n",
      "Requirement already satisfied: grpcio>=1.24.3 in /anaconda/envs/azureml_py38/lib/python3.8/site-packages (from tensorboard>=2.7.0->-r requirements.txt (line 12)) (1.46.3)\n",
      "Requirement already satisfied: protobuf<3.20,>=3.9.2 in /anaconda/envs/azureml_py38/lib/python3.8/site-packages (from tensorboard>=2.7.0->-r requirements.txt (line 12)) (3.19.4)\n",
      "Requirement already satisfied: wheel>=0.26 in /anaconda/envs/azureml_py38/lib/python3.8/site-packages (from tensorboard>=2.7.0->-r requirements.txt (line 12)) (0.37.1)\n",
      "Requirement already satisfied: markdown>=2.6.8 in /anaconda/envs/azureml_py38/lib/python3.8/site-packages (from tensorboard>=2.7.0->-r requirements.txt (line 12)) (3.3.7)\n",
      "Requirement already satisfied: google-auth-oauthlib<0.5,>=0.4.1 in /anaconda/envs/azureml_py38/lib/python3.8/site-packages (from tensorboard>=2.7.0->-r requirements.txt (line 12)) (0.4.6)\n",
      "Requirement already satisfied: absl-py>=0.4 in /anaconda/envs/azureml_py38/lib/python3.8/site-packages (from tensorboard>=2.7.0->-r requirements.txt (line 12)) (0.15.0)\n",
      "Requirement already satisfied: tensorboard-data-server<0.7.0,>=0.6.0 in /anaconda/envs/azureml_py38/lib/python3.8/site-packages (from tensorboard>=2.7.0->-r requirements.txt (line 12)) (0.6.1)\n",
      "Requirement already satisfied: google-auth<3,>=1.6.3 in /anaconda/envs/azureml_py38/lib/python3.8/site-packages (from tensorboard>=2.7.0->-r requirements.txt (line 12)) (2.6.6)\n",
      "Requirement already satisfied: setuptools>=41.0.0 in /anaconda/envs/azureml_py38/lib/python3.8/site-packages (from tensorboard>=2.7.0->-r requirements.txt (line 12)) (49.6.0)\n",
      "Requirement already satisfied: tensorboard-plugin-wit>=1.6.0 in /anaconda/envs/azureml_py38/lib/python3.8/site-packages (from tensorboard>=2.7.0->-r requirements.txt (line 12)) (1.8.1)\n",
      "Requirement already satisfied: onnxsim-no-ort==0.4.0 in /anaconda/envs/azureml_py38/lib/python3.8/site-packages (from onnx-simplifier>=0.3.6->-r requirements.txt (line 15)) (0.4.0)\n",
      "Requirement already satisfied: rich in /anaconda/envs/azureml_py38/lib/python3.8/site-packages (from onnxsim-no-ort==0.4.0->onnx-simplifier>=0.3.6->-r requirements.txt (line 15)) (12.5.1)\n",
      "Requirement already satisfied: six in /anaconda/envs/azureml_py38/lib/python3.8/site-packages (from absl-py>=0.4->tensorboard>=2.7.0->-r requirements.txt (line 12)) (1.16.0)\n",
      "Requirement already satisfied: pyasn1-modules>=0.2.1 in /anaconda/envs/azureml_py38/lib/python3.8/site-packages (from google-auth<3,>=1.6.3->tensorboard>=2.7.0->-r requirements.txt (line 12)) (0.2.8)\n",
      "Requirement already satisfied: cachetools<6.0,>=2.0.0 in /anaconda/envs/azureml_py38/lib/python3.8/site-packages (from google-auth<3,>=1.6.3->tensorboard>=2.7.0->-r requirements.txt (line 12)) (5.1.0)\n",
      "Requirement already satisfied: rsa<5,>=3.1.4 in /anaconda/envs/azureml_py38/lib/python3.8/site-packages (from google-auth<3,>=1.6.3->tensorboard>=2.7.0->-r requirements.txt (line 12)) (4.8)\n",
      "Requirement already satisfied: requests-oauthlib>=0.7.0 in /anaconda/envs/azureml_py38/lib/python3.8/site-packages (from google-auth-oauthlib<0.5,>=0.4.1->tensorboard>=2.7.0->-r requirements.txt (line 12)) (1.3.1)\n",
      "Requirement already satisfied: importlib-metadata>=4.4 in /anaconda/envs/azureml_py38/lib/python3.8/site-packages (from markdown>=2.6.8->tensorboard>=2.7.0->-r requirements.txt (line 12)) (4.11.3)\n",
      "Requirement already satisfied: urllib3<1.27,>=1.21.1 in /anaconda/envs/azureml_py38/lib/python3.8/site-packages (from requests<3,>=2.21.0->tensorboard>=2.7.0->-r requirements.txt (line 12)) (1.26.9)\n",
      "Requirement already satisfied: idna<4,>=2.5 in /anaconda/envs/azureml_py38/lib/python3.8/site-packages (from requests<3,>=2.21.0->tensorboard>=2.7.0->-r requirements.txt (line 12)) (3.3)\n",
      "Requirement already satisfied: charset-normalizer~=2.0.0 in /anaconda/envs/azureml_py38/lib/python3.8/site-packages (from requests<3,>=2.21.0->tensorboard>=2.7.0->-r requirements.txt (line 12)) (2.0.12)\n",
      "Requirement already satisfied: certifi>=2017.4.17 in /anaconda/envs/azureml_py38/lib/python3.8/site-packages (from requests<3,>=2.21.0->tensorboard>=2.7.0->-r requirements.txt (line 12)) (2022.5.18.1)\n",
      "Requirement already satisfied: zipp>=0.5 in /anaconda/envs/azureml_py38/lib/python3.8/site-packages (from importlib-metadata>=4.4->markdown>=2.6.8->tensorboard>=2.7.0->-r requirements.txt (line 12)) (3.8.0)\n",
      "Requirement already satisfied: pyasn1<0.5.0,>=0.4.6 in /anaconda/envs/azureml_py38/lib/python3.8/site-packages (from pyasn1-modules>=0.2.1->google-auth<3,>=1.6.3->tensorboard>=2.7.0->-r requirements.txt (line 12)) (0.4.8)\n",
      "Requirement already satisfied: oauthlib>=3.0.0 in /anaconda/envs/azureml_py38/lib/python3.8/site-packages (from requests-oauthlib>=0.7.0->google-auth-oauthlib<0.5,>=0.4.1->tensorboard>=2.7.0->-r requirements.txt (line 12)) (3.2.0)\n",
      "Requirement already satisfied: commonmark<0.10.0,>=0.9.0 in /anaconda/envs/azureml_py38/lib/python3.8/site-packages (from rich->onnxsim-no-ort==0.4.0->onnx-simplifier>=0.3.6->-r requirements.txt (line 15)) (0.9.1)\n",
      "Requirement already satisfied: pygments<3.0.0,>=2.6.0 in /anaconda/envs/azureml_py38/lib/python3.8/site-packages (from rich->onnxsim-no-ort==0.4.0->onnx-simplifier>=0.3.6->-r requirements.txt (line 15)) (2.12.0)\n"
     ]
    }
   ],
   "source": [
    "# install the required libraries && restart the kernel!!!\n",
    "!pip install -r requirements.txt"
   ]
  },
  {
   "cell_type": "code",
   "execution_count": 8,
   "id": "63ac488c",
   "metadata": {},
   "outputs": [
    {
     "name": "stdout",
     "output_type": "stream",
     "text": [
      "Namespace(agnostic_nms=False, classes=None, conf_thres=0.25, device='0', half=False, hide_conf=False, hide_labels=False, img_size=640, iou_thres=0.45, max_det=1000, name='exp', project='runs/inference', save_img=True, save_txt=False, source='../datasets/test_images/samples/zidane.jpg', weights='weights/yolov6s.pt', yaml='data/coco.yaml')\n",
      "Save directory already existed\n",
      "Loading checkpoint from weights/yolov6s.pt\n",
      "\n",
      "Fusing model...\n",
      "Switch model to deploy modality.\n",
      "100%|█████████████████████████████████████████████| 1/1 [00:00<00:00,  2.97it/s]\n",
      "Results saved to runs/inference/exp\n"
     ]
    }
   ],
   "source": [
    "# test a pre-trained yolov6 model \n",
    "# (1) download a pre-trained model, e.g. yolov6s.pt, from MT-YOLOv6 Github: https://github.com/meituan/YOLOv6/releases/tag/0.1.0\n",
    "# (2) create a folder named \"weights\", and put the yolov6s.pt inside\n",
    "!python tools/infer.py --weights weights/yolov6s.pt --source ../datasets/test_images/samples/zidane.jpg"
   ]
  },
  {
   "cell_type": "code",
   "execution_count": null,
   "id": "a4c0c9d7",
   "metadata": {},
   "outputs": [],
   "source": []
  },
  {
   "cell_type": "code",
   "execution_count": null,
   "id": "30ca12e3",
   "metadata": {},
   "outputs": [],
   "source": []
  }
 ],
 "metadata": {
  "kernelspec": {
   "display_name": "Python 3 (ipykernel)",
   "language": "python",
   "name": "python3"
  },
  "language_info": {
   "codemirror_mode": {
    "name": "ipython",
    "version": 3
   },
   "file_extension": ".py",
   "mimetype": "text/x-python",
   "name": "python",
   "nbconvert_exporter": "python",
   "pygments_lexer": "ipython3",
   "version": "3.8.13"
  }
 },
 "nbformat": 4,
 "nbformat_minor": 5
}
