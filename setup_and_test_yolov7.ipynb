{
 "cells": [
  {
   "cell_type": "code",
   "execution_count": 1,
   "id": "5f49b0f2",
   "metadata": {},
   "outputs": [],
   "source": [
    "# To setup and test the YOLOv7 (official version) \n",
    "# He Zhang, Sep. 2022"
   ]
  },
  {
   "cell_type": "code",
   "execution_count": 2,
   "id": "d00731a6",
   "metadata": {},
   "outputs": [
    {
     "name": "stdout",
     "output_type": "stream",
     "text": [
      "Torch: 1.8.1+cu102\n",
      "Torchvision: 0.9.1+cu102\n",
      "GPU: 2 Tesla M60\n"
     ]
    }
   ],
   "source": [
    "import cv2\n",
    "import matplotlib.pyplot as plt\n",
    "\n",
    "import torch\n",
    "import torchvision\n",
    "print(\"Torch:\", torch.__version__)\n",
    "print(\"Torchvision:\", torchvision.__version__)\n",
    "print(\"GPU:\", torch.cuda.device_count(), torch.cuda.get_device_name(0)) if torch.cuda.is_available() else print(\"NO GPU\")"
   ]
  },
  {
   "cell_type": "code",
   "execution_count": 3,
   "id": "83df5e13",
   "metadata": {},
   "outputs": [
    {
     "name": "stdout",
     "output_type": "stream",
     "text": [
      "fatal: destination path 'yolov7' already exists and is not an empty directory.\r\n"
     ]
    }
   ],
   "source": [
    "# get the YOLOv5 repo.\n",
    "!git clone https://github.com/WongKinYiu/yolov7.git"
   ]
  },
  {
   "cell_type": "code",
   "execution_count": 4,
   "id": "24754a79",
   "metadata": {},
   "outputs": [
    {
     "name": "stdout",
     "output_type": "stream",
     "text": [
      "/mnt/batch/tasks/shared/LS_root/mounts/clusters/multi-gpu-2-tesla-m60/code/Users/zhanghe/cv-safety-detection/yolov7\n"
     ]
    }
   ],
   "source": [
    "# go to folder YOLOv5\n",
    "%cd yolov7/"
   ]
  },
  {
   "cell_type": "code",
   "execution_count": 5,
   "id": "b611033d",
   "metadata": {},
   "outputs": [
    {
     "name": "stdout",
     "output_type": "stream",
     "text": [
      "Requirement already satisfied: pip in /anaconda/envs/azureml_py38/lib/python3.8/site-packages (22.2.2)\r\n"
     ]
    }
   ],
   "source": [
    "# update pip\n",
    "!pip install --upgrade pip"
   ]
  },
  {
   "cell_type": "code",
   "execution_count": 6,
   "id": "c369a7a3",
   "metadata": {},
   "outputs": [
    {
     "name": "stdout",
     "output_type": "stream",
     "text": [
      "Requirement already satisfied: matplotlib>=3.2.2 in /anaconda/envs/azureml_py38/lib/python3.8/site-packages (from -r requirements.txt (line 4)) (3.5.2)\n",
      "Requirement already satisfied: numpy>=1.18.5 in /anaconda/envs/azureml_py38/lib/python3.8/site-packages (from -r requirements.txt (line 5)) (1.19.0)\n",
      "Requirement already satisfied: opencv-python>=4.1.1 in /anaconda/envs/azureml_py38/lib/python3.8/site-packages (from -r requirements.txt (line 6)) (4.6.0.66)\n",
      "Requirement already satisfied: Pillow>=7.1.2 in /anaconda/envs/azureml_py38/lib/python3.8/site-packages (from -r requirements.txt (line 7)) (9.1.1)\n",
      "Requirement already satisfied: PyYAML>=5.3.1 in /anaconda/envs/azureml_py38/lib/python3.8/site-packages (from -r requirements.txt (line 8)) (6.0)\n",
      "Requirement already satisfied: requests>=2.23.0 in /anaconda/envs/azureml_py38/lib/python3.8/site-packages (from -r requirements.txt (line 9)) (2.27.1)\n",
      "Requirement already satisfied: scipy>=1.4.1 in /anaconda/envs/azureml_py38/lib/python3.8/site-packages (from -r requirements.txt (line 10)) (1.5.2)\n",
      "Requirement already satisfied: torch!=1.12.0,>=1.7.0 in /anaconda/envs/azureml_py38/lib/python3.8/site-packages (from -r requirements.txt (line 11)) (1.8.1)\n",
      "Requirement already satisfied: torchvision!=0.13.0,>=0.8.1 in /anaconda/envs/azureml_py38/lib/python3.8/site-packages (from -r requirements.txt (line 12)) (0.9.1)\n",
      "Requirement already satisfied: tqdm>=4.41.0 in /anaconda/envs/azureml_py38/lib/python3.8/site-packages (from -r requirements.txt (line 13)) (4.64.0)\n",
      "Requirement already satisfied: protobuf<4.21.3 in /anaconda/envs/azureml_py38/lib/python3.8/site-packages (from -r requirements.txt (line 14)) (3.19.4)\n",
      "Requirement already satisfied: tensorboard>=2.4.1 in /anaconda/envs/azureml_py38/lib/python3.8/site-packages (from -r requirements.txt (line 17)) (2.9.1)\n",
      "Requirement already satisfied: pandas>=1.1.4 in /anaconda/envs/azureml_py38/lib/python3.8/site-packages (from -r requirements.txt (line 21)) (1.1.5)\n",
      "Requirement already satisfied: seaborn>=0.11.0 in /anaconda/envs/azureml_py38/lib/python3.8/site-packages (from -r requirements.txt (line 22)) (0.11.2)\n",
      "Requirement already satisfied: ipython in /anaconda/envs/azureml_py38/lib/python3.8/site-packages (from -r requirements.txt (line 34)) (8.3.0)\n",
      "Requirement already satisfied: psutil in /anaconda/envs/azureml_py38/lib/python3.8/site-packages (from -r requirements.txt (line 35)) (5.9.0)\n",
      "Requirement already satisfied: thop in /anaconda/envs/azureml_py38/lib/python3.8/site-packages (from -r requirements.txt (line 36)) (0.1.0.post2206102148)\n",
      "Requirement already satisfied: fonttools>=4.22.0 in /anaconda/envs/azureml_py38/lib/python3.8/site-packages (from matplotlib>=3.2.2->-r requirements.txt (line 4)) (4.25.0)\n",
      "Requirement already satisfied: packaging>=20.0 in /anaconda/envs/azureml_py38/lib/python3.8/site-packages (from matplotlib>=3.2.2->-r requirements.txt (line 4)) (21.3)\n",
      "Requirement already satisfied: pyparsing>=2.2.1 in /anaconda/envs/azureml_py38/lib/python3.8/site-packages (from matplotlib>=3.2.2->-r requirements.txt (line 4)) (3.0.9)\n",
      "Requirement already satisfied: cycler>=0.10 in /anaconda/envs/azureml_py38/lib/python3.8/site-packages (from matplotlib>=3.2.2->-r requirements.txt (line 4)) (0.11.0)\n",
      "Requirement already satisfied: kiwisolver>=1.0.1 in /anaconda/envs/azureml_py38/lib/python3.8/site-packages (from matplotlib>=3.2.2->-r requirements.txt (line 4)) (1.4.2)\n",
      "Requirement already satisfied: python-dateutil>=2.7 in /anaconda/envs/azureml_py38/lib/python3.8/site-packages (from matplotlib>=3.2.2->-r requirements.txt (line 4)) (2.8.2)\n",
      "Requirement already satisfied: idna<4,>=2.5 in /anaconda/envs/azureml_py38/lib/python3.8/site-packages (from requests>=2.23.0->-r requirements.txt (line 9)) (3.3)\n",
      "Requirement already satisfied: certifi>=2017.4.17 in /anaconda/envs/azureml_py38/lib/python3.8/site-packages (from requests>=2.23.0->-r requirements.txt (line 9)) (2022.5.18.1)\n",
      "Requirement already satisfied: urllib3<1.27,>=1.21.1 in /anaconda/envs/azureml_py38/lib/python3.8/site-packages (from requests>=2.23.0->-r requirements.txt (line 9)) (1.26.9)\n",
      "Requirement already satisfied: charset-normalizer~=2.0.0 in /anaconda/envs/azureml_py38/lib/python3.8/site-packages (from requests>=2.23.0->-r requirements.txt (line 9)) (2.0.12)\n",
      "Requirement already satisfied: typing-extensions in /anaconda/envs/azureml_py38/lib/python3.8/site-packages (from torch!=1.12.0,>=1.7.0->-r requirements.txt (line 11)) (4.2.0)\n",
      "Requirement already satisfied: werkzeug>=1.0.1 in /anaconda/envs/azureml_py38/lib/python3.8/site-packages (from tensorboard>=2.4.1->-r requirements.txt (line 17)) (1.0.1)\n",
      "Requirement already satisfied: tensorboard-plugin-wit>=1.6.0 in /anaconda/envs/azureml_py38/lib/python3.8/site-packages (from tensorboard>=2.4.1->-r requirements.txt (line 17)) (1.8.1)\n",
      "Requirement already satisfied: google-auth<3,>=1.6.3 in /anaconda/envs/azureml_py38/lib/python3.8/site-packages (from tensorboard>=2.4.1->-r requirements.txt (line 17)) (2.6.6)\n",
      "Requirement already satisfied: markdown>=2.6.8 in /anaconda/envs/azureml_py38/lib/python3.8/site-packages (from tensorboard>=2.4.1->-r requirements.txt (line 17)) (3.3.7)\n",
      "Requirement already satisfied: tensorboard-data-server<0.7.0,>=0.6.0 in /anaconda/envs/azureml_py38/lib/python3.8/site-packages (from tensorboard>=2.4.1->-r requirements.txt (line 17)) (0.6.1)\n",
      "Requirement already satisfied: grpcio>=1.24.3 in /anaconda/envs/azureml_py38/lib/python3.8/site-packages (from tensorboard>=2.4.1->-r requirements.txt (line 17)) (1.46.3)\n",
      "Requirement already satisfied: absl-py>=0.4 in /anaconda/envs/azureml_py38/lib/python3.8/site-packages (from tensorboard>=2.4.1->-r requirements.txt (line 17)) (0.15.0)\n",
      "Requirement already satisfied: wheel>=0.26 in /anaconda/envs/azureml_py38/lib/python3.8/site-packages (from tensorboard>=2.4.1->-r requirements.txt (line 17)) (0.37.1)\n",
      "Requirement already satisfied: google-auth-oauthlib<0.5,>=0.4.1 in /anaconda/envs/azureml_py38/lib/python3.8/site-packages (from tensorboard>=2.4.1->-r requirements.txt (line 17)) (0.4.6)\n",
      "Requirement already satisfied: setuptools>=41.0.0 in /anaconda/envs/azureml_py38/lib/python3.8/site-packages (from tensorboard>=2.4.1->-r requirements.txt (line 17)) (49.6.0)\n",
      "Requirement already satisfied: pytz>=2017.2 in /anaconda/envs/azureml_py38/lib/python3.8/site-packages (from pandas>=1.1.4->-r requirements.txt (line 21)) (2019.3)\n",
      "Requirement already satisfied: backcall in /anaconda/envs/azureml_py38/lib/python3.8/site-packages (from ipython->-r requirements.txt (line 34)) (0.2.0)\n",
      "Requirement already satisfied: traitlets>=5 in /anaconda/envs/azureml_py38/lib/python3.8/site-packages (from ipython->-r requirements.txt (line 34)) (5.2.1.post0)\n",
      "Requirement already satisfied: pickleshare in /anaconda/envs/azureml_py38/lib/python3.8/site-packages (from ipython->-r requirements.txt (line 34)) (0.7.5)\n",
      "Requirement already satisfied: pexpect>4.3 in /anaconda/envs/azureml_py38/lib/python3.8/site-packages (from ipython->-r requirements.txt (line 34)) (4.8.0)\n",
      "Requirement already satisfied: stack-data in /anaconda/envs/azureml_py38/lib/python3.8/site-packages (from ipython->-r requirements.txt (line 34)) (0.2.0)\n",
      "Requirement already satisfied: prompt-toolkit!=3.0.0,!=3.0.1,<3.1.0,>=2.0.0 in /anaconda/envs/azureml_py38/lib/python3.8/site-packages (from ipython->-r requirements.txt (line 34)) (3.0.28)\n",
      "Requirement already satisfied: pygments>=2.4.0 in /anaconda/envs/azureml_py38/lib/python3.8/site-packages (from ipython->-r requirements.txt (line 34)) (2.12.0)\n",
      "Requirement already satisfied: decorator in /anaconda/envs/azureml_py38/lib/python3.8/site-packages (from ipython->-r requirements.txt (line 34)) (5.1.1)\n",
      "Requirement already satisfied: matplotlib-inline in /anaconda/envs/azureml_py38/lib/python3.8/site-packages (from ipython->-r requirements.txt (line 34)) (0.1.3)\n",
      "Requirement already satisfied: jedi>=0.16 in /anaconda/envs/azureml_py38/lib/python3.8/site-packages (from ipython->-r requirements.txt (line 34)) (0.18.0)\n",
      "Requirement already satisfied: six in /anaconda/envs/azureml_py38/lib/python3.8/site-packages (from absl-py>=0.4->tensorboard>=2.4.1->-r requirements.txt (line 17)) (1.16.0)\n",
      "Requirement already satisfied: pyasn1-modules>=0.2.1 in /anaconda/envs/azureml_py38/lib/python3.8/site-packages (from google-auth<3,>=1.6.3->tensorboard>=2.4.1->-r requirements.txt (line 17)) (0.2.8)\n",
      "Requirement already satisfied: cachetools<6.0,>=2.0.0 in /anaconda/envs/azureml_py38/lib/python3.8/site-packages (from google-auth<3,>=1.6.3->tensorboard>=2.4.1->-r requirements.txt (line 17)) (5.1.0)\n",
      "Requirement already satisfied: rsa<5,>=3.1.4 in /anaconda/envs/azureml_py38/lib/python3.8/site-packages (from google-auth<3,>=1.6.3->tensorboard>=2.4.1->-r requirements.txt (line 17)) (4.8)\n",
      "Requirement already satisfied: requests-oauthlib>=0.7.0 in /anaconda/envs/azureml_py38/lib/python3.8/site-packages (from google-auth-oauthlib<0.5,>=0.4.1->tensorboard>=2.4.1->-r requirements.txt (line 17)) (1.3.1)\n",
      "Requirement already satisfied: parso<0.9.0,>=0.8.0 in /anaconda/envs/azureml_py38/lib/python3.8/site-packages (from jedi>=0.16->ipython->-r requirements.txt (line 34)) (0.8.3)\n"
     ]
    },
    {
     "name": "stdout",
     "output_type": "stream",
     "text": [
      "Requirement already satisfied: importlib-metadata>=4.4 in /anaconda/envs/azureml_py38/lib/python3.8/site-packages (from markdown>=2.6.8->tensorboard>=2.4.1->-r requirements.txt (line 17)) (4.11.3)\n",
      "Requirement already satisfied: ptyprocess>=0.5 in /anaconda/envs/azureml_py38/lib/python3.8/site-packages (from pexpect>4.3->ipython->-r requirements.txt (line 34)) (0.7.0)\n",
      "Requirement already satisfied: wcwidth in /anaconda/envs/azureml_py38/lib/python3.8/site-packages (from prompt-toolkit!=3.0.0,!=3.0.1,<3.1.0,>=2.0.0->ipython->-r requirements.txt (line 34)) (0.2.5)\n",
      "Requirement already satisfied: asttokens in /anaconda/envs/azureml_py38/lib/python3.8/site-packages (from stack-data->ipython->-r requirements.txt (line 34)) (2.0.5)\n",
      "Requirement already satisfied: pure-eval in /anaconda/envs/azureml_py38/lib/python3.8/site-packages (from stack-data->ipython->-r requirements.txt (line 34)) (0.2.2)\n",
      "Requirement already satisfied: executing in /anaconda/envs/azureml_py38/lib/python3.8/site-packages (from stack-data->ipython->-r requirements.txt (line 34)) (0.8.3)\n",
      "Requirement already satisfied: zipp>=0.5 in /anaconda/envs/azureml_py38/lib/python3.8/site-packages (from importlib-metadata>=4.4->markdown>=2.6.8->tensorboard>=2.4.1->-r requirements.txt (line 17)) (3.8.0)\n",
      "Requirement already satisfied: pyasn1<0.5.0,>=0.4.6 in /anaconda/envs/azureml_py38/lib/python3.8/site-packages (from pyasn1-modules>=0.2.1->google-auth<3,>=1.6.3->tensorboard>=2.4.1->-r requirements.txt (line 17)) (0.4.8)\n",
      "Requirement already satisfied: oauthlib>=3.0.0 in /anaconda/envs/azureml_py38/lib/python3.8/site-packages (from requests-oauthlib>=0.7.0->google-auth-oauthlib<0.5,>=0.4.1->tensorboard>=2.4.1->-r requirements.txt (line 17)) (3.2.0)\n"
     ]
    }
   ],
   "source": [
    "# install the required libraries && restart the kernel!!!\n",
    "!pip install -r requirements.txt"
   ]
  },
  {
   "cell_type": "code",
   "execution_count": 7,
   "id": "c3daad8b",
   "metadata": {},
   "outputs": [
    {
     "name": "stdout",
     "output_type": "stream",
     "text": [
      "Namespace(agnostic_nms=False, augment=False, classes=None, conf_thres=0.25, device='', exist_ok=False, img_size=640, iou_thres=0.45, name='exp', no_trace=False, nosave=False, project='runs/detect', save_conf=False, save_txt=False, source='inference/images/zidane.jpg', update=False, view_img=False, weights=['yolov7.pt'])\n",
      "YOLOR 🚀 v0.1-107-g44d8ab4 torch 1.8.1+cu102 CUDA:0 (Tesla M60, 8129.25MB)\n",
      "                                            CUDA:1 (Tesla M60, 8129.25MB)\n",
      "\n",
      "Downloading https://github.com/WongKinYiu/yolov7/releases/download/v0.1/yolov7.pt to yolov7.pt...\n",
      "100%|███████████████████████████████████████| 72.1M/72.1M [00:00<00:00, 253MB/s]\n",
      "\n",
      "Fusing layers... \n",
      "RepConv.fuse_repvgg_block\n",
      "RepConv.fuse_repvgg_block\n",
      "RepConv.fuse_repvgg_block\n",
      "Model Summary: 306 layers, 36905341 parameters, 6652669 gradients, 104.5 GFLOPS\n",
      " Convert model to Traced-model... \n",
      " traced_script_module saved! \n",
      " model is traced! \n",
      "\n",
      "3 persons, 1 tie, Done. (46.5ms) Inference, (4.2ms) NMS\n",
      " The image with the result is saved in: runs/detect/exp2/zidane.jpg\n",
      "Done. (1.762s)\n"
     ]
    }
   ],
   "source": [
    "# test a pre-trained yolov6 model \n",
    "# note: download a pre-trained model, e.g. yolov7.pt, from the official YOLOv7 Github: https://github.com/WongKinYiu/yolov7\n",
    "!python detect.py --weights yolov7.pt --conf 0.25 --img-size 640 --source inference/images/zidane.jpg"
   ]
  },
  {
   "cell_type": "code",
   "execution_count": null,
   "id": "ce1916ba",
   "metadata": {},
   "outputs": [],
   "source": []
  },
  {
   "cell_type": "code",
   "execution_count": null,
   "id": "5bcdcdeb",
   "metadata": {},
   "outputs": [],
   "source": []
  }
 ],
 "metadata": {
  "kernelspec": {
   "display_name": "Python 3 (ipykernel)",
   "language": "python",
   "name": "python3"
  },
  "language_info": {
   "codemirror_mode": {
    "name": "ipython",
    "version": 3
   },
   "file_extension": ".py",
   "mimetype": "text/x-python",
   "name": "python",
   "nbconvert_exporter": "python",
   "pygments_lexer": "ipython3",
   "version": "3.8.5"
  }
 },
 "nbformat": 4,
 "nbformat_minor": 5
}
